{
  "cells": [
    {
      "cell_type": "code",
      "execution_count": null,
      "metadata": {
        "id": "Yb-WZlX10xdS"
      },
      "outputs": [],
      "source": [
        "import numpy as np\n",
        "import pandas as pd\n",
        "import scipy\n",
        "import seaborn as sns\n",
        "import torch\n",
        "import matplotlib.pyplot as plt\n",
        "from numpy import dot\n",
        "from numpy.linalg import norm\n",
        "from sklearn.preprocessing import normalize\n",
        "from sklearn.preprocessing import MinMaxScaler\n",
        "\n",
        "from statsmodels.graphics.tsaplots import plot_acf, plot_pacf\n",
        "from statsmodels.tsa.stattools import ccf\n",
        "from scipy import stats\n",
        "sns.set()"
      ]
    },
    {
      "cell_type": "code",
      "execution_count": null,
      "metadata": {
        "id": "pLx9WgNHUfPz"
      },
      "outputs": [],
      "source": [
        "class HSIC:\n",
        "\n",
        "    def __init__(self):\n",
        "        \"\"\"\n",
        "        For regular HSIC, the equation 3 is\n",
        "        HSIC(D, H, G) = (m-1)^(-2) tr(KxHKyH)\n",
        "\n",
        "        \"\"\"\n",
        "        pass\n",
        "\n",
        "    # this is exact implementation of HSIC\n",
        "    # but I found the effect is not good when training the network\n",
        "    # using the implementation below\n",
        "    def pairwise_distances(self, x):\n",
        "        #x should be two dimensional\n",
        "        instances_norm = torch.sum(x**2,-1).reshape((-1,1))\n",
        "        return -2*torch.mm(x,x.t()) + instances_norm + instances_norm.t()\n",
        "\n",
        "    def GaussianKernelMatrix(self, x, sigma=1):\n",
        "        pairwise_distances_ = self.pairwise_distances(x)\n",
        "        return torch.exp(-pairwise_distances_ /sigma)\n",
        "\n",
        "    def hsic_actual(self, x, y, s_x=1, s_y=1):\n",
        "        m, _ = x.shape #batch size\n",
        "        K = self.GaussianKernelMatrix(x,s_x)\n",
        "        L = self.GaussianKernelMatrix(y,s_y)\n",
        "        H = torch.eye(m) - 1.0/m * torch.ones((m,m))\n",
        "        H = H.double()\n",
        "        hsic = torch.trace(torch.mm(L,torch.mm(H,torch.mm(K,H))))/((m-1)**2)\n",
        "        return hsic\n",
        "\n",
        "    # this is the implement for the actual utilization on training the model\n",
        "    def distance_matrix(self, X):\n",
        "        \"\"\"\n",
        "        This is part of Kx in the equation 3\n",
        "        it just computes the |x - y|^2 in the kernel matrix\n",
        "        thus it is called distance matrix\n",
        "        \"\"\"\n",
        "\n",
        "        # X*X is the element-wise product\n",
        "        # summing the result along the axis=1,\n",
        "        # then the change the shape of tensor in [n, 1] form\n",
        "        # print(\"X time X :\", X*X)\n",
        "        r = torch.sum(X*X, 1).view([-1, 1])\n",
        "\n",
        "        # calculate the auto-convariance of X by X @ X^T\n",
        "        a = torch.mm(X, torch.transpose(X,0,1))\n",
        "\n",
        "        # calculate the distance between x_i and x_j and\n",
        "        # combine all the values in the form of matrix\n",
        "        D = r.expand_as(a) - 2*a +  torch.transpose(r,0,1).expand_as(a)\n",
        "\n",
        "        # just make sure the distance is positive one\n",
        "        D = torch.abs(D)\n",
        "\n",
        "        return D\n",
        "\n",
        "\n",
        "    def kernel_matrix(self, X, sigma):\n",
        "\n",
        "        \"\"\"\n",
        "        It utilizes the result from distance matrix ||x - y||^2\n",
        "        and the supplied sigma (sometimes, the sigma could be estimated from the data)\n",
        "        to calculate the centered kernel matrix by multiplying kernel matrix\n",
        "        such as k(x,y) ~ exp(-1/2 ||x - y||^2 / sigma^2 * dimensions) with the centering matrix H = I_m - 1/m 1m 1m^T\n",
        "\n",
        "        In the equation HSIC (D, H, G) = (m-1)^{-2} tr(KxHKyH), it is KxH or KyH\n",
        "        \"\"\"\n",
        "\n",
        "        # take out the number and the dimension of the data points\n",
        "        size, dimension = X.shape\n",
        "\n",
        "        # size = int(X.size()[0])\n",
        "        # dimension = int(X.size()[1])\n",
        "        # this is the centering matrix H\n",
        "        H = torch.eye(size) - (1./size) * torch.ones([size,size])\n",
        "\n",
        "        # this is the distance matrix for X\n",
        "        Dxx = self.distance_matrix(X)\n",
        "\n",
        "        # this is the variance scaled by dimension\n",
        "        variance = 2.*sigma*sigma*dimension\n",
        "\n",
        "        # this is the kernel matrices\n",
        "        Kx = torch.exp( -Dxx / variance).type(torch.FloatTensor)\n",
        "\n",
        "        # this is the centered kernel matrices\n",
        "        Kxc = torch.mm(Kx,H)\n",
        "\n",
        "        return Kxc\n",
        "\n",
        "\n",
        "\n",
        "    def hsic_regular(self, X, Y, sigma):\n",
        "\n",
        "        \"\"\"\n",
        "        This is the calculation of equation 3\n",
        "        HSIC (D, H, G) = (m-1)^{-2} tr(KxH \\bar{KyH})\n",
        "        \\bar indicates conjugate\n",
        "        \"\"\"\n",
        "\n",
        "        Kxc = self.kernel_matrix(X, sigma)\n",
        "        Kyc = self.kernel_matrix(Y, sigma)\n",
        "        #print(Kyc.t())\n",
        "        #print(Kxc)\n",
        "        Ktr = torch.mul(Kxc, Kyc.t())\n",
        "        #print(\"KtK\", Ktr)\n",
        "        regular_hsic = torch.mean(Ktr)\n",
        "\n",
        "        # this is the trace of the convariance matrix\n",
        "        # row, col = Ktr.shape\n",
        "        # regular_hsic = torch.trace(Ktr)/((row-1)*(col-1))\n",
        "\n",
        "        return regular_hsic\n",
        "\n",
        "\n",
        "    def hsic_normalized(self, X, Y, sigma):\n",
        "        \"\"\"\n",
        "        \"\"\"\n",
        "        Pxy = self.hsic_regular(X, Y, sigma)\n",
        "        Px = torch.sqrt(self.hsic_regular(X, X, sigma))\n",
        "        Py = torch.sqrt(self.hsic_regular(Y, Y, sigma))\n",
        "        normalized_hsic = Pxy/(Px*Py)\n",
        "\n",
        "        return normalized_hsic\n"
      ]
    },
    {
      "cell_type": "code",
      "execution_count": null,
      "metadata": {
        "colab": {
          "base_uri": "https://localhost:8080/"
        },
        "id": "dpfiktic1DeS",
        "outputId": "1bebb0ae-eeca-400a-9afd-17f3a74de7b0"
      },
      "outputs": [
        {
          "name": "stdout",
          "output_type": "stream",
          "text": [
            "          DOY     TA      FH2O      H2O       FN2O\n",
            "500   220.317  15.85  0.002654  18.2060   89.92710\n",
            "501   220.338  16.03  0.002654  18.3108   77.54900\n",
            "502   220.359  16.10  0.005648  18.5359   68.31830\n",
            "503   220.380  16.11  0.007354  18.4365  105.42500\n",
            "504   220.401  15.95  0.014389  18.3378  139.43100\n",
            "...       ...    ...       ...      ...        ...\n",
            "4495  303.505  13.56  0.029229  12.6235    1.42327\n",
            "4496  303.526  14.09  0.029327  13.6491    1.42927\n",
            "4497  303.547  15.17  0.023904  13.9837    1.47802\n",
            "4498  303.567  16.37  0.019987  14.3749    1.49600\n",
            "4499  303.588  15.98  0.045541  14.1656    1.45363\n",
            "\n",
            "[4000 rows x 5 columns]\n",
            "[[0.05       0.49987887 0.05208643 0.38101312 0.17891968]\n",
            " [0.05022726 0.49382234 0.05152196 0.36909651 0.1905993 ]\n",
            " [0.05045452 0.50569314 0.05149604 0.36157526 0.17932325]\n",
            " ...\n",
            " [0.94954548 0.14981157 0.05566298 0.1220868  0.05149158]\n",
            " [0.94977274 0.14472409 0.05556089 0.11871169 0.05147147]\n",
            " [0.95       0.13430686 0.05642998 0.11318114 0.05153185]]\n"
          ]
        }
      ],
      "source": [
        "# prepare the training data\n",
        "broadcast_side_2021 = pd.read_csv(\"./sourcedata/2022_broadcast_side.csv\")\n",
        "broadcast_side_2021.drop('Unnamed: 0', axis=1, inplace=True)\n",
        "#broadcast_side_2021.drop('DOY', axis=1, inplace=True)\n",
        "broadcast_side_2021 = broadcast_side_2021[['DOY', 'TA', 'FH2O', 'H2O','FN2O']]\n",
        "print(broadcast_side_2021)\n",
        "\n",
        "# smooth the data to avoid the effect of white noise\n",
        "# smooth_data = broadcast_side_2021.ewm(span=5).mean()\n",
        "# we do not do the smoothing operation on the original data\n",
        "# since it actually did not have any positive effect on\n",
        "# time series analysis\n",
        "# scale the data in the range of (0.05, 0.95)\n",
        "scaler_broadcast_side_2021 = MinMaxScaler((0.05, 0.95))\n",
        "scaled_broadcast_side_2021 = scaler_broadcast_side_2021.fit_transform(broadcast_side_2021)\n",
        "print(scaled_broadcast_side_2021)"
      ]
    },
    {
      "cell_type": "code",
      "execution_count": null,
      "metadata": {
        "id": "LScupRhx23j6"
      },
      "outputs": [],
      "source": [
        "org_data = pd.DataFrame(scaled_broadcast_side_2021, columns=['DOY','Temperature', 'Precipitation', 'Moisture', 'FN2O'])"
      ]
    },
    {
      "cell_type": "code",
      "execution_count": null,
      "metadata": {
        "colab": {
          "base_uri": "https://localhost:8080/",
          "height": 300
        },
        "id": "vGoZSVKUaKOM",
        "outputId": "c3915d02-8545-46af-fc1d-04225f20db27"
      },
      "outputs": [
        {
          "data": {
            "text/html": [
              "<div>\n",
              "<style scoped>\n",
              "    .dataframe tbody tr th:only-of-type {\n",
              "        vertical-align: middle;\n",
              "    }\n",
              "\n",
              "    .dataframe tbody tr th {\n",
              "        vertical-align: top;\n",
              "    }\n",
              "\n",
              "    .dataframe thead th {\n",
              "        text-align: right;\n",
              "    }\n",
              "</style>\n",
              "<table border=\"1\" class=\"dataframe\">\n",
              "  <thead>\n",
              "    <tr style=\"text-align: right;\">\n",
              "      <th></th>\n",
              "      <th>DOY</th>\n",
              "      <th>TA</th>\n",
              "      <th>FH2O</th>\n",
              "      <th>H2O</th>\n",
              "      <th>FN2O</th>\n",
              "    </tr>\n",
              "  </thead>\n",
              "  <tbody>\n",
              "    <tr>\n",
              "      <th>count</th>\n",
              "      <td>4684.000000</td>\n",
              "      <td>4684.000000</td>\n",
              "      <td>4684.000000</td>\n",
              "      <td>4684.000000</td>\n",
              "      <td>4684.000000</td>\n",
              "    </tr>\n",
              "    <tr>\n",
              "      <th>mean</th>\n",
              "      <td>258.656325</td>\n",
              "      <td>14.787370</td>\n",
              "      <td>0.144328</td>\n",
              "      <td>15.535037</td>\n",
              "      <td>34.185712</td>\n",
              "    </tr>\n",
              "    <tr>\n",
              "      <th>std</th>\n",
              "      <td>28.148034</td>\n",
              "      <td>7.719376</td>\n",
              "      <td>0.286859</td>\n",
              "      <td>6.334547</td>\n",
              "      <td>49.519731</td>\n",
              "    </tr>\n",
              "    <tr>\n",
              "      <th>min</th>\n",
              "      <td>210.007000</td>\n",
              "      <td>0.000000</td>\n",
              "      <td>0.000135</td>\n",
              "      <td>3.929720</td>\n",
              "      <td>0.095396</td>\n",
              "    </tr>\n",
              "    <tr>\n",
              "      <th>25%</th>\n",
              "      <td>234.247750</td>\n",
              "      <td>9.420000</td>\n",
              "      <td>0.007300</td>\n",
              "      <td>10.664000</td>\n",
              "      <td>2.016237</td>\n",
              "    </tr>\n",
              "    <tr>\n",
              "      <th>50%</th>\n",
              "      <td>258.640500</td>\n",
              "      <td>14.585000</td>\n",
              "      <td>0.025404</td>\n",
              "      <td>14.920050</td>\n",
              "      <td>7.291640</td>\n",
              "    </tr>\n",
              "    <tr>\n",
              "      <th>75%</th>\n",
              "      <td>283.031250</td>\n",
              "      <td>19.670000</td>\n",
              "      <td>0.142346</td>\n",
              "      <td>19.502400</td>\n",
              "      <td>52.573325</td>\n",
              "    </tr>\n",
              "    <tr>\n",
              "      <th>max</th>\n",
              "      <td>307.422000</td>\n",
              "      <td>37.200000</td>\n",
              "      <td>3.447980</td>\n",
              "      <td>45.635200</td>\n",
              "      <td>255.440000</td>\n",
              "    </tr>\n",
              "  </tbody>\n",
              "</table>\n",
              "</div>"
            ],
            "text/plain": [
              "               DOY           TA         FH2O          H2O         FN2O\n",
              "count  4684.000000  4684.000000  4684.000000  4684.000000  4684.000000\n",
              "mean    258.656325    14.787370     0.144328    15.535037    34.185712\n",
              "std      28.148034     7.719376     0.286859     6.334547    49.519731\n",
              "min     210.007000     0.000000     0.000135     3.929720     0.095396\n",
              "25%     234.247750     9.420000     0.007300    10.664000     2.016237\n",
              "50%     258.640500    14.585000     0.025404    14.920050     7.291640\n",
              "75%     283.031250    19.670000     0.142346    19.502400    52.573325\n",
              "max     307.422000    37.200000     3.447980    45.635200   255.440000"
            ]
          },
          "execution_count": 6,
          "metadata": {},
          "output_type": "execute_result"
        }
      ],
      "source": [
        "broadcast_side_2021.describe()"
      ]
    },
    {
      "cell_type": "code",
      "execution_count": null,
      "metadata": {
        "id": "NlXLa606ZCPw"
      },
      "outputs": [],
      "source": [
        "# now we need to find the distribution of first order difference\n",
        "diff_dist_2021 = pd.DataFrame(scaled_broadcast_side_2021, \\\n",
        "                         columns=['DOY','Temperature', 'Precipitation', 'Moisture', 'FN2O']).diff().dropna()\n",
        "# drop day of the year, since it is the time stamp and play a role of time filter in this algorithm\n",
        "diff_dist_2021.drop('DOY', axis=1, inplace=True)"
      ]
    },
    {
      "cell_type": "code",
      "execution_count": null,
      "metadata": {
        "colab": {
          "base_uri": "https://localhost:8080/"
        },
        "id": "kAvlNu1SPJlr",
        "outputId": "d413b7b5-0cb2-42ec-bd2f-65aa09a08587"
      },
      "outputs": [
        {
          "name": "stdout",
          "output_type": "stream",
          "text": [
            "      Temperature  Precipitation  Moisture          FN2O\n",
            "1        0.033324       0.107255  0.011090  1.699211e-03\n",
            "2        0.021798       0.093359  0.014228  1.557357e-03\n",
            "3        0.041091       0.139902  0.009339  7.333791e-03\n",
            "4       -0.021548      -0.120187  0.035996  5.281187e-03\n",
            "5        0.004761      -0.041000 -0.008338 -3.242760e-03\n",
            "...           ...            ...       ...           ...\n",
            "3995    -0.028062       0.000000  0.032932  0.000000e+00\n",
            "3996    -0.012778       0.000000 -0.029201  0.000000e+00\n",
            "3997    -0.009772       0.000145 -0.004082  0.000000e+00\n",
            "3998    -0.032572       0.204066 -0.047546  0.000000e+00\n",
            "3999    -0.024053      -0.203871 -0.011518 -8.122043e-07\n",
            "\n",
            "[3999 rows x 4 columns]\n"
          ]
        }
      ],
      "source": [
        "print(diff_dist_2021)"
      ]
    },
    {
      "cell_type": "code",
      "execution_count": null,
      "metadata": {
        "colab": {
          "base_uri": "https://localhost:8080/",
          "height": 607
        },
        "id": "nZHWbUl_aAzR",
        "outputId": "53f0874f-240f-4420-cfb2-0d6937b69d88"
      },
      "outputs": [
        {
          "data": {
            "image/png": "[encoded data removed]",
            "text/plain": [
              "<Figure size 600x600 with 3 Axes>"
            ]
          },
          "metadata": {},
          "output_type": "display_data"
        }
      ],
      "source": [
        "g = sns.jointplot(diff_dist_2021, x='Moisture', y='FN2O', kind='kde')\n",
        "g.plot_joint(sns.scatterplot, color=\"y\")\n",
        "g.fig.suptitle(\"Joint Distribution between \\n Moisture and FN2O (Original Data)\")\n",
        "g.fig.subplots_adjust(top=0.90)"
      ]
    },
    {
      "cell_type": "code",
      "execution_count": null,
      "metadata": {
        "id": "k0wXmIFvOweg"
      },
      "outputs": [],
      "source": [
        "def discretization(samplers, nbins):\n",
        "    freq, bin_edges = np.histogramdd(samplers, nbins)\n",
        "    n = len(samplers)\n",
        "    freq_rate = freq / n\n",
        "    x_bin_w = bin_edges[0][1] - bin_edges[0][0]\n",
        "    y_bin_w = bin_edges[1][1] - bin_edges[1][0]\n",
        "    z_bin_w = bin_edges[2][1] - bin_edges[2][0]\n",
        "    t_bin_w = bin_edges[3][1] - bin_edges[3][0]\n",
        "\n",
        "    return freq_rate, bin_edges, x_bin_w, y_bin_w, z_bin_w, t_bin_w"
      ]
    },
    {
      "cell_type": "code",
      "execution_count": null,
      "metadata": {
        "id": "6-YhHE0uPOrb"
      },
      "outputs": [],
      "source": [
        "def get_joint_prob_4d(freq_rate, bin_edges, x_bin_w, y_bin_w, z_bin_w, t_bin_w, \\\n",
        "                      vector):\n",
        "    # calculate the index along the x and y axis\n",
        "    x_res = vector[0] - bin_edges[0][0]\n",
        "    ix = int(x_res/x_bin_w)\n",
        "\n",
        "    y_res = vector[1] - bin_edges[1][0]\n",
        "    iy = int(y_res/y_bin_w)\n",
        "\n",
        "    z_res = vector[2] - bin_edges[2][0]\n",
        "    iz = int(z_res/z_bin_w)\n",
        "\n",
        "    t_res = vector[3] - bin_edges[3][0]\n",
        "    it = int(t_res/t_bin_w)\n",
        "\n",
        "    if ix < 0 or ix > len(freq_rate) - 1 or iy < 0 or iy > len(freq_rate) - 1 or \\\n",
        "       iz < 0 or iz > len(freq_rate) - 1 or it < 0 or it > len(freq_rate) - 1:\n",
        "    # return a small value, since it is discrete system and our distribution may not be sufficient\n",
        "        return 1e-10\n",
        "    else:\n",
        "        return freq_rate[ix][iy][iz][it]"
      ]
    },
    {
      "cell_type": "code",
      "execution_count": null,
      "metadata": {
        "id": "fMEnAUQAP_ka"
      },
      "outputs": [],
      "source": [
        "def metropolis_hastings_4d(spare_data, real_data, diff_all, beta, bins=15):\n",
        "    x_old = np.array([0, 0, 0, 0])\n",
        "    index_x = 0\n",
        "    index_y = 0\n",
        "    time_series = []\n",
        "    gen_lst = [0]\n",
        "    freq_rate, bin_edges, x_bin_w, y_bin_w, z_bin_w, t_bin_w = \\\n",
        "                    discretization(np.array(diff_all), nbins=bins)\n",
        "    search_index = [0]\n",
        "\n",
        "    for ix in range(len(real_data)):\n",
        "        ix = gen_lst[-1]\n",
        "\n",
        "        for iy in range(search_index[-1], len(spare_data)):\n",
        "\n",
        "            # this condition could be relaxed and use the real data as the reference all the time\n",
        "\n",
        "            if len(time_series) != 0:\n",
        "                x_new = (1 - beta)*np.array(spare_data[iy][1:5] - time_series[-1][1:5]) + beta*np.array(spare_data[iy][1:5] - real_data[ix][1:5])\n",
        "            else:\n",
        "                x_new = np.array(spare_data[iy][1:5] - real_data[ix][1:5])\n",
        "\n",
        "            #x_new = np.array(spare_data[iy][1:5] - real_data[ix][1:5])\n",
        "            # this is to compare the time in a small area\n",
        "            # this data is very sentive to the time stamp\n",
        "            time_dist = spare_data[iy][0] - real_data[ix][0]\n",
        "\n",
        "            if time_dist < 0.006 and time_dist > -0.006:\n",
        "\n",
        "                alpha = np.min([get_joint_prob_4d(freq_rate, bin_edges, x_bin_w, y_bin_w, \\\n",
        "                                                z_bin_w, t_bin_w, x_new) \\\n",
        "                                /(get_joint_prob_4d(freq_rate, bin_edges, x_bin_w, y_bin_w, \\\n",
        "                                                z_bin_w, t_bin_w, x_old)), 1])\n",
        "\n",
        "                if np.random.rand() < alpha:\n",
        "\n",
        "                    x_old = x_new\n",
        "                    time_series.append(spare_data[iy])\n",
        "                    print(\"Alpha :\", alpha)\n",
        "                    print(\"Add into the time series : \", spare_data[iy])\n",
        "                    print(\"Index X : \", ix)\n",
        "                    print(\"gen_lst : \", gen_lst[-1])\n",
        "                    print(\"Search Index : \", search_index[-1])\n",
        "                    index_x = ix + 1\n",
        "                    gen_lst.append(index_x)\n",
        "                    index_y = iy + 1\n",
        "                    search_index.append(index_y)\n",
        "                    break\n",
        "\n",
        "    return time_series, gen_lst"
      ]
    },
    {
      "cell_type": "code",
      "execution_count": null,
      "metadata": {
        "colab": {
          "base_uri": "https://localhost:8080/"
        },
        "id": "OI5RCYRvRvMj",
        "outputId": "bd6fcf3a-9878-4abc-d95c-a96ad4684c80"
      },
      "outputs": [
        {
          "data": {
            "text/plain": [
              "(3999, 4)"
            ]
          },
          "execution_count": 14,
          "metadata": {},
          "output_type": "execute_result"
        }
      ],
      "source": [
        "dist_prob = diff_dist_2021\n",
        "dist_prob.shape"
      ]
    },
    {
      "cell_type": "code",
      "execution_count": null,
      "metadata": {
        "colab": {
          "base_uri": "https://localhost:8080/"
        },
        "id": "Hx3FL3YHZpvV",
        "outputId": "3643ed02-b7e8-46d2-c122-de27f7283925"
      },
      "outputs": [
        {
          "data": {
            "text/plain": [
              "1924000"
            ]
          },
          "execution_count": 212,
          "metadata": {},
          "output_type": "execute_result"
        }
      ],
      "source": [
        "spare_data = np.load('aug_broadcast_middle_2022.npy')\n",
        "len(spare_data)"
      ]
    },
    {
      "cell_type": "code",
      "execution_count": null,
      "metadata": {
        "colab": {
          "base_uri": "https://localhost:8080/"
        },
        "id": "_eGD6ZCXc5n4",
        "outputId": "d7ba6010-36c1-49d5-8cda-75844d850977"
      },
      "outputs": [
        {
          "data": {
            "text/plain": [
              "tensor([[1.1952e-02, 9.9293e-01, 2.8108e-01, 1.9725e-01, 7.9783e-02, 3.4582e-01],\n",
              "        [1.2158e-02, 9.9418e-01, 2.1322e-01, 1.8518e-01, 5.2666e-02, 2.7795e-01],\n",
              "        [1.2624e-02, 9.9525e-01, 2.3533e-01, 1.4156e-01, 9.2976e-02, 4.1656e-01],\n",
              "        ...,\n",
              "        [9.9728e-01, 4.5565e-02, 1.1391e-01, 2.6347e-03, 1.4756e-01, 1.2740e-03],\n",
              "        [9.9730e-01, 4.0191e-02, 1.6964e-01, 6.5506e-03, 8.0245e-02, 6.1196e-04],\n",
              "        [9.9744e-01, 6.0476e-02, 1.2110e-01, 5.4121e-03, 1.1244e-01, 6.9954e-04]],\n",
              "       requires_grad=True)"
            ]
          },
          "execution_count": 317,
          "metadata": {},
          "output_type": "execute_result"
        }
      ],
      "source": [
        "spare_data = torch.load('gen_2021_broadcast_nitrogen_b2.pth', map_location=torch.device('cpu'))\n",
        "spare_data"
      ]
    },
    {
      "cell_type": "code",
      "execution_count": null,
      "metadata": {
        "id": "Ft6t_T6NuQvl"
      },
      "outputs": [],
      "source": [
        "spare_data_1 = spare_data[:,[0,2,3,4,5]]"
      ]
    },
    {
      "cell_type": "code",
      "execution_count": null,
      "metadata": {
        "colab": {
          "base_uri": "https://localhost:8080/"
        },
        "id": "FkvOiYapc_8f",
        "outputId": "21e469ed-0bc6-4316-b03f-125cd7aeb4fd"
      },
      "outputs": [
        {
          "data": {
            "text/plain": [
              "array([[1.19522316e-02, 9.92928326e-01, 2.81084567e-01, 1.97252572e-01,\n",
              "        7.97829628e-02, 3.45822960e-01],\n",
              "       [1.21583277e-02, 9.94178414e-01, 2.13215426e-01, 1.85179487e-01,\n",
              "        5.26657738e-02, 2.77947515e-01],\n",
              "       [1.26243550e-02, 9.95251656e-01, 2.35334724e-01, 1.41561329e-01,\n",
              "        9.29761380e-02, 4.16560382e-01],\n",
              "       ...,\n",
              "       [9.97278392e-01, 4.55646925e-02, 1.13914043e-01, 2.63472064e-03,\n",
              "        1.47564635e-01, 1.27404102e-03],\n",
              "       [9.97301280e-01, 4.01913039e-02, 1.69641227e-01, 6.55056909e-03,\n",
              "        8.02454650e-02, 6.11957686e-04],\n",
              "       [9.97440100e-01, 6.04762807e-02, 1.21096939e-01, 5.41206961e-03,\n",
              "        1.12443775e-01, 6.99538505e-04]], dtype=float32)"
            ]
          },
          "execution_count": 318,
          "metadata": {},
          "output_type": "execute_result"
        }
      ],
      "source": [
        "spare_data = spare_data.detach().numpy()\n",
        "spare_data"
      ]
    },
    {
      "cell_type": "code",
      "execution_count": null,
      "metadata": {
        "colab": {
          "base_uri": "https://localhost:8080/"
        },
        "id": "vJszWKuxNEhl",
        "outputId": "81e40153-7e07-4343-cc04-dd7c623b7658"
      },
      "outputs": [
        {
          "data": {
            "text/plain": [
              "1920000"
            ]
          },
          "execution_count": 20,
          "metadata": {},
          "output_type": "execute_result"
        }
      ],
      "source": [
        "spare_data = spare_data[spare_data[:,0].argsort()]\n",
        "len(spare_data)"
      ]
    },
    {
      "cell_type": "code",
      "execution_count": null,
      "metadata": {
        "colab": {
          "base_uri": "https://localhost:8080/"
        },
        "id": "WcMo-H8-dOj_",
        "outputId": "81eb9686-0d31-4e20-fac8-4de1a02e5807"
      },
      "outputs": [
        {
          "name": "stdout",
          "output_type": "stream",
          "text": [
            "[[0.02455521 0.44109404 0.07181142 0.35678393 0.08878747]\n",
            " [0.02477502 0.37897894 0.06816772 0.29722357 0.07466388]\n",
            " [0.02480562 0.40663472 0.08725864 0.15781754 0.07995421]\n",
            " ...\n",
            " [0.95738518 0.44827846 0.0827941  0.28380546 0.03754591]\n",
            " [0.95748323 0.50903052 0.08103512 0.29312533 0.03825387]\n",
            " [0.95766717 0.49546903 0.06575879 0.32182226 0.03779434]]\n"
          ]
        }
      ],
      "source": [
        "print(spare_data_old)"
      ]
    },
    {
      "cell_type": "code",
      "execution_count": null,
      "metadata": {
        "id": "qjshVaZr_Stw"
      },
      "outputs": [],
      "source": [
        "time_series, gen_lst = metropolis_hastings_4d(spare_data_old, scaled_broadcast_side_2021, dist_prob, beta = 0.04, bins = 15)"
      ]
    },
    {
      "cell_type": "code",
      "execution_count": null,
      "metadata": {
        "id": "r_JaPRl7SAM7"
      },
      "outputs": [],
      "source": [
        "fake_data = pd.DataFrame(time_series, columns=['DOY','Temperature', 'Precipitation', 'Moisture', 'FN2O'])"
      ]
    },
    {
      "cell_type": "code",
      "execution_count": null,
      "metadata": {
        "colab": {
          "base_uri": "https://localhost:8080/",
          "height": 424
        },
        "id": "VBVqJfB7yriV",
        "outputId": "b04e6dfd-9a01-4816-f3a1-337b430233f4"
      },
      "outputs": [
        {
          "data": {
            "text/html": [
              "\n",
              "\n",
              "  <div id=\"df-88e726d4-d0f8-438f-81fc-6ea39e1d9c98\">\n",
              "    <div class=\"colab-df-container\">\n",
              "      <div>\n",
              "<style scoped>\n",
              "    .dataframe tbody tr th:only-of-type {\n",
              "        vertical-align: middle;\n",
              "    }\n",
              "\n",
              "    .dataframe tbody tr th {\n",
              "        vertical-align: top;\n",
              "    }\n",
              "\n",
              "    .dataframe thead th {\n",
              "        text-align: right;\n",
              "    }\n",
              "</style>\n",
              "<table border=\"1\" class=\"dataframe\">\n",
              "  <thead>\n",
              "    <tr style=\"text-align: right;\">\n",
              "      <th></th>\n",
              "      <th>DOY</th>\n",
              "      <th>Temperature</th>\n",
              "      <th>Precipitation</th>\n",
              "      <th>Moisture</th>\n",
              "      <th>FN2O</th>\n",
              "    </tr>\n",
              "  </thead>\n",
              "  <tbody>\n",
              "    <tr>\n",
              "      <th>0</th>\n",
              "      <td>0.050000</td>\n",
              "      <td>0.338391</td>\n",
              "      <td>0.192183</td>\n",
              "      <td>0.202774</td>\n",
              "      <td>0.108360</td>\n",
              "    </tr>\n",
              "    <tr>\n",
              "      <th>1</th>\n",
              "      <td>0.044227</td>\n",
              "      <td>0.139701</td>\n",
              "      <td>0.104411</td>\n",
              "      <td>0.056571</td>\n",
              "      <td>0.248703</td>\n",
              "    </tr>\n",
              "    <tr>\n",
              "      <th>2</th>\n",
              "      <td>0.044449</td>\n",
              "      <td>0.401832</td>\n",
              "      <td>0.067738</td>\n",
              "      <td>0.304530</td>\n",
              "      <td>0.476155</td>\n",
              "    </tr>\n",
              "    <tr>\n",
              "      <th>3</th>\n",
              "      <td>0.044673</td>\n",
              "      <td>0.123970</td>\n",
              "      <td>0.023182</td>\n",
              "      <td>0.198570</td>\n",
              "      <td>0.619296</td>\n",
              "    </tr>\n",
              "    <tr>\n",
              "      <th>4</th>\n",
              "      <td>0.044898</td>\n",
              "      <td>0.346943</td>\n",
              "      <td>0.142954</td>\n",
              "      <td>0.216403</td>\n",
              "      <td>0.452057</td>\n",
              "    </tr>\n",
              "    <tr>\n",
              "      <th>...</th>\n",
              "      <td>...</td>\n",
              "      <td>...</td>\n",
              "      <td>...</td>\n",
              "      <td>...</td>\n",
              "      <td>...</td>\n",
              "    </tr>\n",
              "    <tr>\n",
              "      <th>3995</th>\n",
              "      <td>0.943113</td>\n",
              "      <td>0.212189</td>\n",
              "      <td>0.053230</td>\n",
              "      <td>0.172228</td>\n",
              "      <td>0.003582</td>\n",
              "    </tr>\n",
              "    <tr>\n",
              "      <th>3996</th>\n",
              "      <td>0.943348</td>\n",
              "      <td>0.190737</td>\n",
              "      <td>0.047016</td>\n",
              "      <td>0.205055</td>\n",
              "      <td>0.004898</td>\n",
              "    </tr>\n",
              "    <tr>\n",
              "      <th>3997</th>\n",
              "      <td>0.943547</td>\n",
              "      <td>0.188623</td>\n",
              "      <td>0.059385</td>\n",
              "      <td>0.234829</td>\n",
              "      <td>0.010947</td>\n",
              "    </tr>\n",
              "    <tr>\n",
              "      <th>3998</th>\n",
              "      <td>0.943828</td>\n",
              "      <td>0.185708</td>\n",
              "      <td>0.110673</td>\n",
              "      <td>0.215324</td>\n",
              "      <td>0.007619</td>\n",
              "    </tr>\n",
              "    <tr>\n",
              "      <th>3999</th>\n",
              "      <td>0.944022</td>\n",
              "      <td>0.234379</td>\n",
              "      <td>0.118117</td>\n",
              "      <td>0.222359</td>\n",
              "      <td>0.003698</td>\n",
              "    </tr>\n",
              "  </tbody>\n",
              "</table>\n",
              "<p>4000 rows × 5 columns</p>\n",
              "</div>\n",
              "      <button class=\"colab-df-convert\" onclick=\"convertToInteractive('df-88e726d4-d0f8-438f-81fc-6ea39e1d9c98')\"\n",
              "              title=\"Convert this dataframe to an interactive table.\"\n",
              "              style=\"display:none;\">\n",
              "\n",
              "  <svg xmlns=\"http://www.w3.org/2000/svg\" height=\"24px\"viewBox=\"0 0 24 24\"\n",
              "       width=\"24px\">\n",
              "    <path d=\"M0 0h24v24H0V0z\" fill=\"none\"/>\n",
              "    <path d=\"M18.56 5.44l.94 2.06.94-2.06 2.06-.94-2.06-.94-.94-2.06-.94 2.06-2.06.94zm-11 1L8.5 8.5l.94-2.06 2.06-.94-2.06-.94L8.5 2.5l-.94 2.06-2.06.94zm10 10l.94 2.06.94-2.06 2.06-.94-2.06-.94-.94-2.06-.94 2.06-2.06.94z\"/><path d=\"M17.41 7.96l-1.37-1.37c-.4-.4-.92-.59-1.43-.59-.52 0-1.04.2-1.43.59L10.3 9.45l-7.72 7.72c-.78.78-.78 2.05 0 2.83L4 21.41c.39.39.9.59 1.41.59.51 0 1.02-.2 1.41-.59l7.78-7.78 2.81-2.81c.8-.78.8-2.07 0-2.86zM5.41 20L4 18.59l7.72-7.72 1.47 1.35L5.41 20z\"/>\n",
              "  </svg>\n",
              "      </button>\n",
              "\n",
              "\n",
              "\n",
              "    <div id=\"df-9dcc8283-e261-4fb4-8130-83bf9e5ae91b\">\n",
              "      <button class=\"colab-df-quickchart\" onclick=\"quickchart('df-9dcc8283-e261-4fb4-8130-83bf9e5ae91b')\"\n",
              "              title=\"Suggest charts.\"\n",
              "              style=\"display:none;\">\n",
              "\n",
              "<svg xmlns=\"http://www.w3.org/2000/svg\" height=\"24px\"viewBox=\"0 0 24 24\"\n",
              "     width=\"24px\">\n",
              "    <g>\n",
              "        <path d=\"M19 3H5c-1.1 0-2 .9-2 2v14c0 1.1.9 2 2 2h14c1.1 0 2-.9 2-2V5c0-1.1-.9-2-2-2zM9 17H7v-7h2v7zm4 0h-2V7h2v10zm4 0h-2v-4h2v4z\"/>\n",
              "    </g>\n",
              "</svg>\n",
              "      </button>\n",
              "    </div>\n",
              "\n",
              "<style>\n",
              "  .colab-df-quickchart {\n",
              "    background-color: #E8F0FE;\n",
              "    border: none;\n",
              "    border-radius: 50%;\n",
              "    cursor: pointer;\n",
              "    display: none;\n",
              "    fill: #1967D2;\n",
              "    height: 32px;\n",
              "    padding: 0 0 0 0;\n",
              "    width: 32px;\n",
              "  }\n",
              "\n",
              "  .colab-df-quickchart:hover {\n",
              "    background-color: #E2EBFA;\n",
              "    box-shadow: 0px 1px 2px rgba(60, 64, 67, 0.3), 0px 1px 3px 1px rgba(60, 64, 67, 0.15);\n",
              "    fill: #174EA6;\n",
              "  }\n",
              "\n",
              "  [theme=dark] .colab-df-quickchart {\n",
              "    background-color: #3B4455;\n",
              "    fill: #D2E3FC;\n",
              "  }\n",
              "\n",
              "  [theme=dark] .colab-df-quickchart:hover {\n",
              "    background-color: #434B5C;\n",
              "    box-shadow: 0px 1px 3px 1px rgba(0, 0, 0, 0.15);\n",
              "    filter: drop-shadow(0px 1px 2px rgba(0, 0, 0, 0.3));\n",
              "    fill: #FFFFFF;\n",
              "  }\n",
              "</style>\n",
              "\n",
              "    <script>\n",
              "      async function quickchart(key) {\n",
              "        const containerElement = document.querySelector('#' + key);\n",
              "        const charts = await google.colab.kernel.invokeFunction(\n",
              "            'suggestCharts', [key], {});\n",
              "      }\n",
              "    </script>\n",
              "\n",
              "      <script>\n",
              "\n",
              "function displayQuickchartButton(domScope) {\n",
              "  let quickchartButtonEl =\n",
              "    domScope.querySelector('#df-9dcc8283-e261-4fb4-8130-83bf9e5ae91b button.colab-df-quickchart');\n",
              "  quickchartButtonEl.style.display =\n",
              "    google.colab.kernel.accessAllowed ? 'block' : 'none';\n",
              "}\n",
              "\n",
              "        displayQuickchartButton(document);\n",
              "      </script>\n",
              "      <style>\n",
              "    .colab-df-container {\n",
              "      display:flex;\n",
              "      flex-wrap:wrap;\n",
              "      gap: 12px;\n",
              "    }\n",
              "\n",
              "    .colab-df-convert {\n",
              "      background-color: #E8F0FE;\n",
              "      border: none;\n",
              "      border-radius: 50%;\n",
              "      cursor: pointer;\n",
              "      display: none;\n",
              "      fill: #1967D2;\n",
              "      height: 32px;\n",
              "      padding: 0 0 0 0;\n",
              "      width: 32px;\n",
              "    }\n",
              "\n",
              "    .colab-df-convert:hover {\n",
              "      background-color: #E2EBFA;\n",
              "      box-shadow: 0px 1px 2px rgba(60, 64, 67, 0.3), 0px 1px 3px 1px rgba(60, 64, 67, 0.15);\n",
              "      fill: #174EA6;\n",
              "    }\n",
              "\n",
              "    [theme=dark] .colab-df-convert {\n",
              "      background-color: #3B4455;\n",
              "      fill: #D2E3FC;\n",
              "    }\n",
              "\n",
              "    [theme=dark] .colab-df-convert:hover {\n",
              "      background-color: #434B5C;\n",
              "      box-shadow: 0px 1px 3px 1px rgba(0, 0, 0, 0.15);\n",
              "      filter: drop-shadow(0px 1px 2px rgba(0, 0, 0, 0.3));\n",
              "      fill: #FFFFFF;\n",
              "    }\n",
              "  </style>\n",
              "\n",
              "      <script>\n",
              "        const buttonEl =\n",
              "          document.querySelector('#df-88e726d4-d0f8-438f-81fc-6ea39e1d9c98 button.colab-df-convert');\n",
              "        buttonEl.style.display =\n",
              "          google.colab.kernel.accessAllowed ? 'block' : 'none';\n",
              "\n",
              "        async function convertToInteractive(key) {\n",
              "          const element = document.querySelector('#df-88e726d4-d0f8-438f-81fc-6ea39e1d9c98');\n",
              "          const dataTable =\n",
              "            await google.colab.kernel.invokeFunction('convertToInteractive',\n",
              "                                                     [key], {});\n",
              "          if (!dataTable) return;\n",
              "\n",
              "          const docLinkHtml = 'Like what you see? Visit the ' +\n",
              "            '<a target=\"_blank\" href=https://colab.research.google.com/notebooks/data_table.ipynb>data table notebook</a>'\n",
              "            + ' to learn more about interactive tables.';\n",
              "          element.innerHTML = '';\n",
              "          dataTable['output_type'] = 'display_data';\n",
              "          await google.colab.output.renderOutput(dataTable, element);\n",
              "          const docLink = document.createElement('div');\n",
              "          docLink.innerHTML = docLinkHtml;\n",
              "          element.appendChild(docLink);\n",
              "        }\n",
              "      </script>\n",
              "    </div>\n",
              "  </div>\n"
            ],
            "text/plain": [
              "           DOY  Temperature  Precipitation  Moisture      FN2O\n",
              "0     0.050000     0.338391       0.192183  0.202774  0.108360\n",
              "1     0.044227     0.139701       0.104411  0.056571  0.248703\n",
              "2     0.044449     0.401832       0.067738  0.304530  0.476155\n",
              "3     0.044673     0.123970       0.023182  0.198570  0.619296\n",
              "4     0.044898     0.346943       0.142954  0.216403  0.452057\n",
              "...        ...          ...            ...       ...       ...\n",
              "3995  0.943113     0.212189       0.053230  0.172228  0.003582\n",
              "3996  0.943348     0.190737       0.047016  0.205055  0.004898\n",
              "3997  0.943547     0.188623       0.059385  0.234829  0.010947\n",
              "3998  0.943828     0.185708       0.110673  0.215324  0.007619\n",
              "3999  0.944022     0.234379       0.118117  0.222359  0.003698\n",
              "\n",
              "[4000 rows x 5 columns]"
            ]
          },
          "execution_count": 362,
          "metadata": {},
          "output_type": "execute_result"
        }
      ],
      "source": [
        "fake_data"
      ]
    },
    {
      "cell_type": "code",
      "execution_count": null,
      "metadata": {
        "colab": {
          "base_uri": "https://localhost:8080/",
          "height": 424
        },
        "id": "sVvqHXONC4-F",
        "outputId": "6d16c659-6f81-4b88-eebf-1a4eed7dd758"
      },
      "outputs": [
        {
          "data": {
            "text/html": [
              "\n",
              "\n",
              "  <div id=\"df-bab85748-28eb-41ef-9419-0d1585a73d65\">\n",
              "    <div class=\"colab-df-container\">\n",
              "      <div>\n",
              "<style scoped>\n",
              "    .dataframe tbody tr th:only-of-type {\n",
              "        vertical-align: middle;\n",
              "    }\n",
              "\n",
              "    .dataframe tbody tr th {\n",
              "        vertical-align: top;\n",
              "    }\n",
              "\n",
              "    .dataframe thead th {\n",
              "        text-align: right;\n",
              "    }\n",
              "</style>\n",
              "<table border=\"1\" class=\"dataframe\">\n",
              "  <thead>\n",
              "    <tr style=\"text-align: right;\">\n",
              "      <th></th>\n",
              "      <th>DOY</th>\n",
              "      <th>Temperature</th>\n",
              "      <th>Precipitation</th>\n",
              "      <th>Moisture</th>\n",
              "      <th>FN2O</th>\n",
              "    </tr>\n",
              "  </thead>\n",
              "  <tbody>\n",
              "    <tr>\n",
              "      <th>0</th>\n",
              "      <td>0.050000</td>\n",
              "      <td>0.338391</td>\n",
              "      <td>0.192183</td>\n",
              "      <td>0.202774</td>\n",
              "      <td>0.108360</td>\n",
              "    </tr>\n",
              "    <tr>\n",
              "      <th>1</th>\n",
              "      <td>0.046793</td>\n",
              "      <td>0.228007</td>\n",
              "      <td>0.143421</td>\n",
              "      <td>0.121550</td>\n",
              "      <td>0.186328</td>\n",
              "    </tr>\n",
              "    <tr>\n",
              "      <th>2</th>\n",
              "      <td>0.045832</td>\n",
              "      <td>0.299247</td>\n",
              "      <td>0.112403</td>\n",
              "      <td>0.196542</td>\n",
              "      <td>0.305110</td>\n",
              "    </tr>\n",
              "    <tr>\n",
              "      <th>3</th>\n",
              "      <td>0.045440</td>\n",
              "      <td>0.239871</td>\n",
              "      <td>0.082179</td>\n",
              "      <td>0.197229</td>\n",
              "      <td>0.411542</td>\n",
              "    </tr>\n",
              "    <tr>\n",
              "      <th>4</th>\n",
              "      <td>0.045279</td>\n",
              "      <td>0.271723</td>\n",
              "      <td>0.100258</td>\n",
              "      <td>0.202933</td>\n",
              "      <td>0.423594</td>\n",
              "    </tr>\n",
              "    <tr>\n",
              "      <th>...</th>\n",
              "      <td>...</td>\n",
              "      <td>...</td>\n",
              "      <td>...</td>\n",
              "      <td>...</td>\n",
              "      <td>...</td>\n",
              "    </tr>\n",
              "    <tr>\n",
              "      <th>3995</th>\n",
              "      <td>0.942211</td>\n",
              "      <td>0.268185</td>\n",
              "      <td>0.083412</td>\n",
              "      <td>0.214753</td>\n",
              "      <td>0.006652</td>\n",
              "    </tr>\n",
              "    <tr>\n",
              "      <th>3996</th>\n",
              "      <td>0.942439</td>\n",
              "      <td>0.252696</td>\n",
              "      <td>0.076133</td>\n",
              "      <td>0.212813</td>\n",
              "      <td>0.006301</td>\n",
              "    </tr>\n",
              "    <tr>\n",
              "      <th>3997</th>\n",
              "      <td>0.942660</td>\n",
              "      <td>0.239881</td>\n",
              "      <td>0.072784</td>\n",
              "      <td>0.217216</td>\n",
              "      <td>0.007231</td>\n",
              "    </tr>\n",
              "    <tr>\n",
              "      <th>3998</th>\n",
              "      <td>0.942894</td>\n",
              "      <td>0.229047</td>\n",
              "      <td>0.080361</td>\n",
              "      <td>0.216838</td>\n",
              "      <td>0.007308</td>\n",
              "    </tr>\n",
              "    <tr>\n",
              "      <th>3999</th>\n",
              "      <td>0.943119</td>\n",
              "      <td>0.230113</td>\n",
              "      <td>0.087913</td>\n",
              "      <td>0.217942</td>\n",
              "      <td>0.006586</td>\n",
              "    </tr>\n",
              "  </tbody>\n",
              "</table>\n",
              "<p>4000 rows × 5 columns</p>\n",
              "</div>\n",
              "      <button class=\"colab-df-convert\" onclick=\"convertToInteractive('df-bab85748-28eb-41ef-9419-0d1585a73d65')\"\n",
              "              title=\"Convert this dataframe to an interactive table.\"\n",
              "              style=\"display:none;\">\n",
              "\n",
              "  <svg xmlns=\"http://www.w3.org/2000/svg\" height=\"24px\"viewBox=\"0 0 24 24\"\n",
              "       width=\"24px\">\n",
              "    <path d=\"M0 0h24v24H0V0z\" fill=\"none\"/>\n",
              "    <path d=\"M18.56 5.44l.94 2.06.94-2.06 2.06-.94-2.06-.94-.94-2.06-.94 2.06-2.06.94zm-11 1L8.5 8.5l.94-2.06 2.06-.94-2.06-.94L8.5 2.5l-.94 2.06-2.06.94zm10 10l.94 2.06.94-2.06 2.06-.94-2.06-.94-.94-2.06-.94 2.06-2.06.94z\"/><path d=\"M17.41 7.96l-1.37-1.37c-.4-.4-.92-.59-1.43-.59-.52 0-1.04.2-1.43.59L10.3 9.45l-7.72 7.72c-.78.78-.78 2.05 0 2.83L4 21.41c.39.39.9.59 1.41.59.51 0 1.02-.2 1.41-.59l7.78-7.78 2.81-2.81c.8-.78.8-2.07 0-2.86zM5.41 20L4 18.59l7.72-7.72 1.47 1.35L5.41 20z\"/>\n",
              "  </svg>\n",
              "      </button>\n",
              "\n",
              "\n",
              "\n",
              "    <div id=\"df-973a8fc1-65e0-4a82-9599-e2cacf720952\">\n",
              "      <button class=\"colab-df-quickchart\" onclick=\"quickchart('df-973a8fc1-65e0-4a82-9599-e2cacf720952')\"\n",
              "              title=\"Suggest charts.\"\n",
              "              style=\"display:none;\">\n",
              "\n",
              "<svg xmlns=\"http://www.w3.org/2000/svg\" height=\"24px\"viewBox=\"0 0 24 24\"\n",
              "     width=\"24px\">\n",
              "    <g>\n",
              "        <path d=\"M19 3H5c-1.1 0-2 .9-2 2v14c0 1.1.9 2 2 2h14c1.1 0 2-.9 2-2V5c0-1.1-.9-2-2-2zM9 17H7v-7h2v7zm4 0h-2V7h2v10zm4 0h-2v-4h2v4z\"/>\n",
              "    </g>\n",
              "</svg>\n",
              "      </button>\n",
              "    </div>\n",
              "\n",
              "<style>\n",
              "  .colab-df-quickchart {\n",
              "    background-color: #E8F0FE;\n",
              "    border: none;\n",
              "    border-radius: 50%;\n",
              "    cursor: pointer;\n",
              "    display: none;\n",
              "    fill: #1967D2;\n",
              "    height: 32px;\n",
              "    padding: 0 0 0 0;\n",
              "    width: 32px;\n",
              "  }\n",
              "\n",
              "  .colab-df-quickchart:hover {\n",
              "    background-color: #E2EBFA;\n",
              "    box-shadow: 0px 1px 2px rgba(60, 64, 67, 0.3), 0px 1px 3px 1px rgba(60, 64, 67, 0.15);\n",
              "    fill: #174EA6;\n",
              "  }\n",
              "\n",
              "  [theme=dark] .colab-df-quickchart {\n",
              "    background-color: #3B4455;\n",
              "    fill: #D2E3FC;\n",
              "  }\n",
              "\n",
              "  [theme=dark] .colab-df-quickchart:hover {\n",
              "    background-color: #434B5C;\n",
              "    box-shadow: 0px 1px 3px 1px rgba(0, 0, 0, 0.15);\n",
              "    filter: drop-shadow(0px 1px 2px rgba(0, 0, 0, 0.3));\n",
              "    fill: #FFFFFF;\n",
              "  }\n",
              "</style>\n",
              "\n",
              "    <script>\n",
              "      async function quickchart(key) {\n",
              "        const containerElement = document.querySelector('#' + key);\n",
              "        const charts = await google.colab.kernel.invokeFunction(\n",
              "            'suggestCharts', [key], {});\n",
              "      }\n",
              "    </script>\n",
              "\n",
              "      <script>\n",
              "\n",
              "function displayQuickchartButton(domScope) {\n",
              "  let quickchartButtonEl =\n",
              "    domScope.querySelector('#df-973a8fc1-65e0-4a82-9599-e2cacf720952 button.colab-df-quickchart');\n",
              "  quickchartButtonEl.style.display =\n",
              "    google.colab.kernel.accessAllowed ? 'block' : 'none';\n",
              "}\n",
              "\n",
              "        displayQuickchartButton(document);\n",
              "      </script>\n",
              "      <style>\n",
              "    .colab-df-container {\n",
              "      display:flex;\n",
              "      flex-wrap:wrap;\n",
              "      gap: 12px;\n",
              "    }\n",
              "\n",
              "    .colab-df-convert {\n",
              "      background-color: #E8F0FE;\n",
              "      border: none;\n",
              "      border-radius: 50%;\n",
              "      cursor: pointer;\n",
              "      display: none;\n",
              "      fill: #1967D2;\n",
              "      height: 32px;\n",
              "      padding: 0 0 0 0;\n",
              "      width: 32px;\n",
              "    }\n",
              "\n",
              "    .colab-df-convert:hover {\n",
              "      background-color: #E2EBFA;\n",
              "      box-shadow: 0px 1px 2px rgba(60, 64, 67, 0.3), 0px 1px 3px 1px rgba(60, 64, 67, 0.15);\n",
              "      fill: #174EA6;\n",
              "    }\n",
              "\n",
              "    [theme=dark] .colab-df-convert {\n",
              "      background-color: #3B4455;\n",
              "      fill: #D2E3FC;\n",
              "    }\n",
              "\n",
              "    [theme=dark] .colab-df-convert:hover {\n",
              "      background-color: #434B5C;\n",
              "      box-shadow: 0px 1px 3px 1px rgba(0, 0, 0, 0.15);\n",
              "      filter: drop-shadow(0px 1px 2px rgba(0, 0, 0, 0.3));\n",
              "      fill: #FFFFFF;\n",
              "    }\n",
              "  </style>\n",
              "\n",
              "      <script>\n",
              "        const buttonEl =\n",
              "          document.querySelector('#df-bab85748-28eb-41ef-9419-0d1585a73d65 button.colab-df-convert');\n",
              "        buttonEl.style.display =\n",
              "          google.colab.kernel.accessAllowed ? 'block' : 'none';\n",
              "\n",
              "        async function convertToInteractive(key) {\n",
              "          const element = document.querySelector('#df-bab85748-28eb-41ef-9419-0d1585a73d65');\n",
              "          const dataTable =\n",
              "            await google.colab.kernel.invokeFunction('convertToInteractive',\n",
              "                                                     [key], {});\n",
              "          if (!dataTable) return;\n",
              "\n",
              "          const docLinkHtml = 'Like what you see? Visit the ' +\n",
              "            '<a target=\"_blank\" href=https://colab.research.google.com/notebooks/data_table.ipynb>data table notebook</a>'\n",
              "            + ' to learn more about interactive tables.';\n",
              "          element.innerHTML = '';\n",
              "          dataTable['output_type'] = 'display_data';\n",
              "          await google.colab.output.renderOutput(dataTable, element);\n",
              "          const docLink = document.createElement('div');\n",
              "          docLink.innerHTML = docLinkHtml;\n",
              "          element.appendChild(docLink);\n",
              "        }\n",
              "      </script>\n",
              "    </div>\n",
              "  </div>\n"
            ],
            "text/plain": [
              "           DOY  Temperature  Precipitation  Moisture      FN2O\n",
              "0     0.050000     0.338391       0.192183  0.202774  0.108360\n",
              "1     0.046793     0.228007       0.143421  0.121550  0.186328\n",
              "2     0.045832     0.299247       0.112403  0.196542  0.305110\n",
              "3     0.045440     0.239871       0.082179  0.197229  0.411542\n",
              "4     0.045279     0.271723       0.100258  0.202933  0.423594\n",
              "...        ...          ...            ...       ...       ...\n",
              "3995  0.942211     0.268185       0.083412  0.214753  0.006652\n",
              "3996  0.942439     0.252696       0.076133  0.212813  0.006301\n",
              "3997  0.942660     0.239881       0.072784  0.217216  0.007231\n",
              "3998  0.942894     0.229047       0.080361  0.216838  0.007308\n",
              "3999  0.943119     0.230113       0.087913  0.217942  0.006586\n",
              "\n",
              "[4000 rows x 5 columns]"
            ]
          },
          "execution_count": 363,
          "metadata": {},
          "output_type": "execute_result"
        }
      ],
      "source": [
        "smooth_data = fake_data.ewm(alpha=0.2).mean()\n",
        "smooth_data"
      ]
    },
    {
      "cell_type": "code",
      "execution_count": null,
      "metadata": {
        "id": "MXTVGSLvZzZO"
      },
      "outputs": [],
      "source": [
        "hsic = HSIC()"
      ]
    },
    {
      "cell_type": "code",
      "execution_count": null,
      "metadata": {
        "colab": {
          "base_uri": "https://localhost:8080/"
        },
        "id": "7q2j_GjwZubf",
        "outputId": "50f9563f-41f0-4654-d7c3-296208ae32a6"
      },
      "outputs": [
        {
          "name": "stdout",
          "output_type": "stream",
          "text": [
            "tensor(0.8694)\n"
          ]
        }
      ],
      "source": [
        "hsic_1 = hsic.hsic_normalized(torch.tensor(scaled_broadcast_side_2021), torch.tensor(smooth_data.values), 1)\n",
        "print(hsic_1)"
      ]
    },
    {
      "cell_type": "code",
      "execution_count": null,
      "metadata": {
        "id": "VNU3kpMyF3YD"
      },
      "outputs": [],
      "source": [
        "np.save('fake_broadcast_side_2021_9640_b100.npy', fake_data)"
      ]
    },
    {
      "cell_type": "code",
      "execution_count": null,
      "metadata": {
        "colab": {
          "base_uri": "https://localhost:8080/"
        },
        "id": "9wXlmce9pwfy",
        "outputId": "5c8e25f6-3da1-40ea-a08a-e2454a9ac214"
      },
      "outputs": [
        {
          "data": {
            "text/plain": [
              "KstestResult(statistic=0.01900475118779695, pvalue=0.4656530792582479, statistic_location=-0.0047495799985735054, statistic_sign=-1)"
            ]
          },
          "execution_count": 316,
          "metadata": {},
          "output_type": "execute_result"
        }
      ],
      "source": [
        "stats.kstest(diff_all_1['Moisture'], diff_all_2['Moisture'])"
      ]
    },
    {
      "cell_type": "code",
      "execution_count": null,
      "metadata": {
        "colab": {
          "base_uri": "https://localhost:8080/",
          "height": 424
        },
        "id": "8zk6CZELZBOD",
        "outputId": "0fea82b6-bb35-4c6a-eb5f-b9a7925b0d5d"
      },
      "outputs": [
        {
          "data": {
            "text/html": [
              "\n",
              "\n",
              "  <div id=\"df-ae065844-5c51-4166-b141-c434f9602dfe\">\n",
              "    <div class=\"colab-df-container\">\n",
              "      <div>\n",
              "<style scoped>\n",
              "    .dataframe tbody tr th:only-of-type {\n",
              "        vertical-align: middle;\n",
              "    }\n",
              "\n",
              "    .dataframe tbody tr th {\n",
              "        vertical-align: top;\n",
              "    }\n",
              "\n",
              "    .dataframe thead th {\n",
              "        text-align: right;\n",
              "    }\n",
              "</style>\n",
              "<table border=\"1\" class=\"dataframe\">\n",
              "  <thead>\n",
              "    <tr style=\"text-align: right;\">\n",
              "      <th></th>\n",
              "      <th>Temperature</th>\n",
              "      <th>Precipitation</th>\n",
              "      <th>Moisture</th>\n",
              "      <th>FN2O</th>\n",
              "    </tr>\n",
              "  </thead>\n",
              "  <tbody>\n",
              "    <tr>\n",
              "      <th>1</th>\n",
              "      <td>0.033324</td>\n",
              "      <td>0.107255</td>\n",
              "      <td>0.011090</td>\n",
              "      <td>1.699211e-03</td>\n",
              "    </tr>\n",
              "    <tr>\n",
              "      <th>2</th>\n",
              "      <td>0.021798</td>\n",
              "      <td>0.093359</td>\n",
              "      <td>0.014228</td>\n",
              "      <td>1.557357e-03</td>\n",
              "    </tr>\n",
              "    <tr>\n",
              "      <th>3</th>\n",
              "      <td>0.041091</td>\n",
              "      <td>0.139902</td>\n",
              "      <td>0.009339</td>\n",
              "      <td>7.333791e-03</td>\n",
              "    </tr>\n",
              "    <tr>\n",
              "      <th>4</th>\n",
              "      <td>-0.021548</td>\n",
              "      <td>-0.120187</td>\n",
              "      <td>0.035996</td>\n",
              "      <td>5.281187e-03</td>\n",
              "    </tr>\n",
              "    <tr>\n",
              "      <th>5</th>\n",
              "      <td>0.004761</td>\n",
              "      <td>-0.041000</td>\n",
              "      <td>-0.008338</td>\n",
              "      <td>-3.242760e-03</td>\n",
              "    </tr>\n",
              "    <tr>\n",
              "      <th>...</th>\n",
              "      <td>...</td>\n",
              "      <td>...</td>\n",
              "      <td>...</td>\n",
              "      <td>...</td>\n",
              "    </tr>\n",
              "    <tr>\n",
              "      <th>3995</th>\n",
              "      <td>-0.028062</td>\n",
              "      <td>0.000000</td>\n",
              "      <td>0.032932</td>\n",
              "      <td>0.000000e+00</td>\n",
              "    </tr>\n",
              "    <tr>\n",
              "      <th>3996</th>\n",
              "      <td>-0.012778</td>\n",
              "      <td>0.000000</td>\n",
              "      <td>-0.029201</td>\n",
              "      <td>0.000000e+00</td>\n",
              "    </tr>\n",
              "    <tr>\n",
              "      <th>3997</th>\n",
              "      <td>-0.009772</td>\n",
              "      <td>0.000145</td>\n",
              "      <td>-0.004082</td>\n",
              "      <td>0.000000e+00</td>\n",
              "    </tr>\n",
              "    <tr>\n",
              "      <th>3998</th>\n",
              "      <td>-0.032572</td>\n",
              "      <td>0.204066</td>\n",
              "      <td>-0.047546</td>\n",
              "      <td>0.000000e+00</td>\n",
              "    </tr>\n",
              "    <tr>\n",
              "      <th>3999</th>\n",
              "      <td>-0.024053</td>\n",
              "      <td>-0.203871</td>\n",
              "      <td>-0.011518</td>\n",
              "      <td>-8.122043e-07</td>\n",
              "    </tr>\n",
              "  </tbody>\n",
              "</table>\n",
              "<p>3999 rows × 4 columns</p>\n",
              "</div>\n",
              "      <button class=\"colab-df-convert\" onclick=\"convertToInteractive('df-ae065844-5c51-4166-b141-c434f9602dfe')\"\n",
              "              title=\"Convert this dataframe to an interactive table.\"\n",
              "              style=\"display:none;\">\n",
              "\n",
              "  <svg xmlns=\"http://www.w3.org/2000/svg\" height=\"24px\"viewBox=\"0 0 24 24\"\n",
              "       width=\"24px\">\n",
              "    <path d=\"M0 0h24v24H0V0z\" fill=\"none\"/>\n",
              "    <path d=\"M18.56 5.44l.94 2.06.94-2.06 2.06-.94-2.06-.94-.94-2.06-.94 2.06-2.06.94zm-11 1L8.5 8.5l.94-2.06 2.06-.94-2.06-.94L8.5 2.5l-.94 2.06-2.06.94zm10 10l.94 2.06.94-2.06 2.06-.94-2.06-.94-.94-2.06-.94 2.06-2.06.94z\"/><path d=\"M17.41 7.96l-1.37-1.37c-.4-.4-.92-.59-1.43-.59-.52 0-1.04.2-1.43.59L10.3 9.45l-7.72 7.72c-.78.78-.78 2.05 0 2.83L4 21.41c.39.39.9.59 1.41.59.51 0 1.02-.2 1.41-.59l7.78-7.78 2.81-2.81c.8-.78.8-2.07 0-2.86zM5.41 20L4 18.59l7.72-7.72 1.47 1.35L5.41 20z\"/>\n",
              "  </svg>\n",
              "      </button>\n",
              "\n",
              "\n",
              "\n",
              "    <div id=\"df-52a1d93f-abd1-4243-9b99-827cba236190\">\n",
              "      <button class=\"colab-df-quickchart\" onclick=\"quickchart('df-52a1d93f-abd1-4243-9b99-827cba236190')\"\n",
              "              title=\"Suggest charts.\"\n",
              "              style=\"display:none;\">\n",
              "\n",
              "<svg xmlns=\"http://www.w3.org/2000/svg\" height=\"24px\"viewBox=\"0 0 24 24\"\n",
              "     width=\"24px\">\n",
              "    <g>\n",
              "        <path d=\"M19 3H5c-1.1 0-2 .9-2 2v14c0 1.1.9 2 2 2h14c1.1 0 2-.9 2-2V5c0-1.1-.9-2-2-2zM9 17H7v-7h2v7zm4 0h-2V7h2v10zm4 0h-2v-4h2v4z\"/>\n",
              "    </g>\n",
              "</svg>\n",
              "      </button>\n",
              "    </div>\n",
              "\n",
              "<style>\n",
              "  .colab-df-quickchart {\n",
              "    background-color: #E8F0FE;\n",
              "    border: none;\n",
              "    border-radius: 50%;\n",
              "    cursor: pointer;\n",
              "    display: none;\n",
              "    fill: #1967D2;\n",
              "    height: 32px;\n",
              "    padding: 0 0 0 0;\n",
              "    width: 32px;\n",
              "  }\n",
              "\n",
              "  .colab-df-quickchart:hover {\n",
              "    background-color: #E2EBFA;\n",
              "    box-shadow: 0px 1px 2px rgba(60, 64, 67, 0.3), 0px 1px 3px 1px rgba(60, 64, 67, 0.15);\n",
              "    fill: #174EA6;\n",
              "  }\n",
              "\n",
              "  [theme=dark] .colab-df-quickchart {\n",
              "    background-color: #3B4455;\n",
              "    fill: #D2E3FC;\n",
              "  }\n",
              "\n",
              "  [theme=dark] .colab-df-quickchart:hover {\n",
              "    background-color: #434B5C;\n",
              "    box-shadow: 0px 1px 3px 1px rgba(0, 0, 0, 0.15);\n",
              "    filter: drop-shadow(0px 1px 2px rgba(0, 0, 0, 0.3));\n",
              "    fill: #FFFFFF;\n",
              "  }\n",
              "</style>\n",
              "\n",
              "    <script>\n",
              "      async function quickchart(key) {\n",
              "        const containerElement = document.querySelector('#' + key);\n",
              "        const charts = await google.colab.kernel.invokeFunction(\n",
              "            'suggestCharts', [key], {});\n",
              "      }\n",
              "    </script>\n",
              "\n",
              "      <script>\n",
              "\n",
              "function displayQuickchartButton(domScope) {\n",
              "  let quickchartButtonEl =\n",
              "    domScope.querySelector('#df-52a1d93f-abd1-4243-9b99-827cba236190 button.colab-df-quickchart');\n",
              "  quickchartButtonEl.style.display =\n",
              "    google.colab.kernel.accessAllowed ? 'block' : 'none';\n",
              "}\n",
              "\n",
              "        displayQuickchartButton(document);\n",
              "      </script>\n",
              "      <style>\n",
              "    .colab-df-container {\n",
              "      display:flex;\n",
              "      flex-wrap:wrap;\n",
              "      gap: 12px;\n",
              "    }\n",
              "\n",
              "    .colab-df-convert {\n",
              "      background-color: #E8F0FE;\n",
              "      border: none;\n",
              "      border-radius: 50%;\n",
              "      cursor: pointer;\n",
              "      display: none;\n",
              "      fill: #1967D2;\n",
              "      height: 32px;\n",
              "      padding: 0 0 0 0;\n",
              "      width: 32px;\n",
              "    }\n",
              "\n",
              "    .colab-df-convert:hover {\n",
              "      background-color: #E2EBFA;\n",
              "      box-shadow: 0px 1px 2px rgba(60, 64, 67, 0.3), 0px 1px 3px 1px rgba(60, 64, 67, 0.15);\n",
              "      fill: #174EA6;\n",
              "    }\n",
              "\n",
              "    [theme=dark] .colab-df-convert {\n",
              "      background-color: #3B4455;\n",
              "      fill: #D2E3FC;\n",
              "    }\n",
              "\n",
              "    [theme=dark] .colab-df-convert:hover {\n",
              "      background-color: #434B5C;\n",
              "      box-shadow: 0px 1px 3px 1px rgba(0, 0, 0, 0.15);\n",
              "      filter: drop-shadow(0px 1px 2px rgba(0, 0, 0, 0.3));\n",
              "      fill: #FFFFFF;\n",
              "    }\n",
              "  </style>\n",
              "\n",
              "      <script>\n",
              "        const buttonEl =\n",
              "          document.querySelector('#df-ae065844-5c51-4166-b141-c434f9602dfe button.colab-df-convert');\n",
              "        buttonEl.style.display =\n",
              "          google.colab.kernel.accessAllowed ? 'block' : 'none';\n",
              "\n",
              "        async function convertToInteractive(key) {\n",
              "          const element = document.querySelector('#df-ae065844-5c51-4166-b141-c434f9602dfe');\n",
              "          const dataTable =\n",
              "            await google.colab.kernel.invokeFunction('convertToInteractive',\n",
              "                                                     [key], {});\n",
              "          if (!dataTable) return;\n",
              "\n",
              "          const docLinkHtml = 'Like what you see? Visit the ' +\n",
              "            '<a target=\"_blank\" href=https://colab.research.google.com/notebooks/data_table.ipynb>data table notebook</a>'\n",
              "            + ' to learn more about interactive tables.';\n",
              "          element.innerHTML = '';\n",
              "          dataTable['output_type'] = 'display_data';\n",
              "          await google.colab.output.renderOutput(dataTable, element);\n",
              "          const docLink = document.createElement('div');\n",
              "          docLink.innerHTML = docLinkHtml;\n",
              "          element.appendChild(docLink);\n",
              "        }\n",
              "      </script>\n",
              "    </div>\n",
              "  </div>\n"
            ],
            "text/plain": [
              "      Temperature  Precipitation  Moisture          FN2O\n",
              "1        0.033324       0.107255  0.011090  1.699211e-03\n",
              "2        0.021798       0.093359  0.014228  1.557357e-03\n",
              "3        0.041091       0.139902  0.009339  7.333791e-03\n",
              "4       -0.021548      -0.120187  0.035996  5.281187e-03\n",
              "5        0.004761      -0.041000 -0.008338 -3.242760e-03\n",
              "...           ...            ...       ...           ...\n",
              "3995    -0.028062       0.000000  0.032932  0.000000e+00\n",
              "3996    -0.012778       0.000000 -0.029201  0.000000e+00\n",
              "3997    -0.009772       0.000145 -0.004082  0.000000e+00\n",
              "3998    -0.032572       0.204066 -0.047546  0.000000e+00\n",
              "3999    -0.024053      -0.203871 -0.011518 -8.122043e-07\n",
              "\n",
              "[3999 rows x 4 columns]"
            ]
          },
          "execution_count": 304,
          "metadata": {},
          "output_type": "execute_result"
        }
      ],
      "source": [
        "dist_prob"
      ]
    },
    {
      "cell_type": "code",
      "execution_count": null,
      "metadata": {
        "colab": {
          "base_uri": "https://localhost:8080/",
          "height": 602
        },
        "id": "TO7b7Ep9kjse",
        "outputId": "ef392c2b-651d-4246-ac0e-023e04937949"
      },
      "outputs": [
        {
          "data": {
            "image/png": "[encoded data removed]",
            "text/plain": [
              "<Figure size 600x600 with 3 Axes>"
            ]
          },
          "metadata": {},
          "output_type": "display_data"
        }
      ],
      "source": [
        "plt.rcParams.update({'font.size': 15})\n",
        "g = sns.jointplot(diff_all, x='Precipitation', y='Moisture', kind='kde')\n",
        "g.plot_joint(sns.scatterplot, color=\"y\")\n",
        "g.fig.suptitle(\"Joint Distribution of Precipitation and Moisture \\n (Original Data)\")\n",
        "g.fig.subplots_adjust(top=0.90)"
      ]
    },
    {
      "cell_type": "code",
      "execution_count": null,
      "metadata": {
        "colab": {
          "base_uri": "https://localhost:8080/",
          "height": 512
        },
        "id": "PMh_y43hUx_w",
        "outputId": "80c33d0e-be79-46a7-9f63-6cf8c38f891c"
      },
      "outputs": [
        {
          "name": "stderr",
          "output_type": "stream",
          "text": [
            "/usr/local/lib/python3.10/dist-packages/statsmodels/graphics/tsaplots.py:348: FutureWarning: The default method 'yw' can produce PACF values outside of the [-1,1] interval. After 0.13, the default will change tounadjusted Yule-Walker ('ywm'). You can use this method now by setting method='ywm'.\n",
            "  warnings.warn(\n"
          ]
        },
        {
          "data": {
            "image/png": "[encoded data removed]",
            "text/plain": [
              "<Figure size 640x480 with 1 Axes>"
            ]
          },
          "metadata": {},
          "output_type": "display_data"
        }
      ],
      "source": [
        "plot_pacf(smooth_data['Moisture'], lags=10)\n",
        "plt.ylim(-0.80, 1.1)\n",
        "plt.title('PACF for FN2O of Orginal Data')\n",
        "plt.show()"
      ]
    },
    {
      "cell_type": "code",
      "execution_count": null,
      "metadata": {
        "colab": {
          "base_uri": "https://localhost:8080/",
          "height": 457
        },
        "id": "Kcw9ZPLttRNW",
        "outputId": "d760bfc5-0de6-4b04-8722-a29607b8540b"
      },
      "outputs": [
        {
          "data": {
            "image/png": "[encoded data removed]",
            "text/plain": [
              "<Figure size 640x480 with 1 Axes>"
            ]
          },
          "metadata": {},
          "output_type": "display_data"
        }
      ],
      "source": [
        "plot_acf(org_data['Temperature'], lags=100)\n",
        "plt.ylim(-0.3, 1.1)\n",
        "plt.title('ACF for Temperature of Orginal Data')\n",
        "plt.show()"
      ]
    },
    {
      "cell_type": "code",
      "execution_count": null,
      "metadata": {
        "id": "wDPYyBZX0hO2"
      },
      "outputs": [],
      "source": [
        "real_data = pd.DataFrame(scaled_broadcast_side_2021)"
      ]
    },
    {
      "cell_type": "code",
      "execution_count": null,
      "metadata": {
        "id": "8KUg2cmEWgKE"
      },
      "outputs": [],
      "source": [
        "hsic = HSIC()"
      ]
    },
    {
      "cell_type": "code",
      "execution_count": null,
      "metadata": {
        "colab": {
          "base_uri": "https://localhost:8080/"
        },
        "id": "mH0GugTmWimI",
        "outputId": "85631a16-4c25-4547-ae7e-3ad7515a912c"
      },
      "outputs": [
        {
          "name": "stdout",
          "output_type": "stream",
          "text": [
            "tensor(0.8013)\n"
          ]
        }
      ],
      "source": [
        "hsic_1 = hsic.hsic_normalized(torch.tensor(scaled_broadcast_side_2021), torch.tensor(smooth_data.values), 1)\n",
        "print(hsic_1)"
      ]
    }
  ],
  "metadata": {
    "colab": {
      "provenance": []
    },
    "kernelspec": {
      "display_name": "Python 3 (ipykernel)",
      "language": "python",
      "name": "python3"
    },
    "language_info": {
      "codemirror_mode": {
        "name": "ipython",
        "version": 3
      },
      "file_extension": ".py",
      "mimetype": "text/x-python",
      "name": "python",
      "nbconvert_exporter": "python",
      "pygments_lexer": "ipython3",
      "version": "3.10.9"
    }
  },
  "nbformat": 4,
  "nbformat_minor": 0
}